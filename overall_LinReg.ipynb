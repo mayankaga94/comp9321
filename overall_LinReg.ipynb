{
 "cells": [
  {
   "cell_type": "code",
   "execution_count": 4,
   "metadata": {},
   "outputs": [],
   "source": [
    "import pandas as pd\n",
    "import sklearn\n",
    "import numpy as np\n",
    "\n",
    "from sklearn.utils import shuffle\n",
    "from sklearn.linear_model import LinearRegression\n",
    "from sklearn.neighbors import NearestNeighbors\n",
    "from sklearn.metrics import mean_squared_error\n",
    "from sklearn.model_selection import train_test_split"
   ]
  },
  {
   "cell_type": "markdown",
   "metadata": {},
   "source": [
    "### Data ingestion for ML"
   ]
  },
  {
   "cell_type": "code",
   "execution_count": 37,
   "metadata": {},
   "outputs": [
    {
     "name": "stdout",
     "output_type": "stream",
     "text": [
      "       Reactions  Composure  Vision  ShortPassing  BallControl  Overall  \\\n",
      "16133       46.0       48.0    42.0          55.0         64.0       58   \n",
      "6285        66.0       66.0    63.0          61.0         66.0       69   \n",
      "15884       55.0       51.0    47.0          53.0         55.0       58   \n",
      "9156        56.0       55.0    37.0          59.0         49.0       66   \n",
      "495         77.0       61.0    57.0          37.0         34.0       80   \n",
      "\n",
      "              Name  \n",
      "16133     A. Bakir  \n",
      "6285   João Victor  \n",
      "15884     B. Singh  \n",
      "9156      G. Milan  \n",
      "495        J. Zoet  \n"
     ]
    }
   ],
   "source": [
    "df = pd.read_csv('data.csv', index_col=0)\n",
    "df = df[['Reactions', 'Composure', 'Vision', 'ShortPassing', 'BallControl', 'Overall', 'Name']]\n",
    "df = df.dropna()\n",
    "\n",
    "player_df = pd.read_csv('data.csv', index_col=0)\n",
    "player_df = player_df[['Value','Wage']]\n",
    "# player_df = player_df.dropna()\n",
    "\n",
    "df = shuffle(df, random_state=10)\n",
    "print(df.head())"
   ]
  },
  {
   "cell_type": "code",
   "execution_count": 38,
   "metadata": {},
   "outputs": [],
   "source": [
    "def wage_split(x):\n",
    "    try:\n",
    "        return int(x.split(\"K\")[0][1:])\n",
    "    except:\n",
    "        return 0\n",
    "\n",
    "player_df['Wage'] = player_df['Wage'].apply(lambda x : wage_split(x))\n",
    "def value_split(x):\n",
    "    try:\n",
    "        if 'M' in x:\n",
    "            return float(x.split(\"M\")[0][1:])\n",
    "        elif 'K' in x:\n",
    "            return float(x.split(\"K\")[0][1:])/1000\n",
    "    except:\n",
    "        return 0\n",
    "    \n",
    "player_df['Value'] = player_df['Value'].apply(lambda x : value_split(x))\n",
    "player_df = player_df.dropna()\n"
   ]
  },
  {
   "cell_type": "markdown",
   "metadata": {},
   "source": [
    "### Train Test split"
   ]
  },
  {
   "cell_type": "code",
   "execution_count": 39,
   "metadata": {
    "scrolled": true
   },
   "outputs": [],
   "source": [
    "X = df.drop(['Overall', 'Name'], axis=1).values\n",
    "#name = df['Name'].values\n",
    "Y = df['Overall'].values\n",
    "X_train, X_test, y_train, y_test = train_test_split(X,Y, test_size=0.2)\n",
    "\n",
    "X2 = player_df['Value'].values.reshape(-1,1)\n",
    "y2 = player_df['Wage'].values.reshape(-1,1)\n",
    "X_train2, X_test2, y_train2, y_test2 = train_test_split( X2, y2, test_size=0.2, random_state=99)"
   ]
  },
  {
   "cell_type": "markdown",
   "metadata": {},
   "source": [
    "### Fit a Linear Regression Model"
   ]
  },
  {
   "cell_type": "code",
   "execution_count": 40,
   "metadata": {},
   "outputs": [
    {
     "data": {
      "text/plain": [
       "LinearRegression(copy_X=True, fit_intercept=True, n_jobs=None, normalize=False)"
      ]
     },
     "execution_count": 40,
     "metadata": {},
     "output_type": "execute_result"
    }
   ],
   "source": [
    "from sklearn import svm\n",
    "reg = LinearRegression()\n",
    "reg.fit(X_train, y_train)\n",
    "reg.coef_\n",
    "\n",
    "regressor = LinearRegression()\n",
    "regressor.fit(X_train2,y_train2)\n",
    "#y_pred = reg.predict(X_test)\n",
    "#print('Accuracy of linear regression classifier on test set: {:.2f}'.format(reg.score(X_test, y_test)))"
   ]
  },
  {
   "cell_type": "code",
   "execution_count": 42,
   "metadata": {},
   "outputs": [
    {
     "name": "stdout",
     "output_type": "stream",
     "text": [
      "[1.48930347]\n",
      "[[3.45324246]]\n"
     ]
    }
   ],
   "source": [
    "print(regressor.intercept_)\n",
    "print(regressor.coef_)\n",
    "y_pred2 = regressor.predict(X_test2)\n",
    "df2 = pd.DataFrame({'Actual': y_test2.flatten(), 'Predicted': y_pred2.flatten()})\n",
    "# df2"
   ]
  },
  {
   "cell_type": "code",
   "execution_count": 46,
   "metadata": {},
   "outputs": [
    {
     "data": {
      "text/plain": [
       "array([[3.45324246]])"
      ]
     },
     "execution_count": 46,
     "metadata": {},
     "output_type": "execute_result"
    }
   ],
   "source": [
    "import pickle\n",
    "filename='Regressor_model.sav'\n",
    "pickle.dump(reg, open(filename, 'wb'))\n",
    "load_lr_model =pickle.load(open(filename, 'rb'))\n",
    "load_lr_model.coef_\n",
    "\n",
    "# \n",
    "# For Wage\n",
    "filename2='Regressor_model2.sav'\n",
    "pickle.dump(regressor, open(filename2, 'wb'))\n",
    "load_lr_model2 =pickle.load(open(filename2, 'rb'))\n",
    "load_lr_model2.coef_"
   ]
  },
  {
   "cell_type": "code",
   "execution_count": 44,
   "metadata": {},
   "outputs": [
    {
     "name": "stdout",
     "output_type": "stream",
     "text": [
      "[89.10499743]\n"
     ]
    }
   ],
   "source": [
    "new_player = [95, 96, 94, 90, 96]\n",
    "print(load_lr_model.predict([new_player]))"
   ]
  },
  {
   "cell_type": "code",
   "execution_count": null,
   "metadata": {},
   "outputs": [],
   "source": []
  },
  {
   "cell_type": "code",
   "execution_count": 45,
   "metadata": {},
   "outputs": [
    {
     "name": "stdout",
     "output_type": "stream",
     "text": [
      "[69.83749845]\n"
     ]
    }
   ],
   "source": [
    "new_player = [66, 68, 64, 67, 70]\n",
    "\n",
    "def calc_overall(new_player, model):\n",
    "    return model.predict([new_player])\n",
    "\n",
    "print(calc_overall(new_player, reg))"
   ]
  },
  {
   "cell_type": "code",
   "execution_count": 48,
   "metadata": {},
   "outputs": [
    {
     "name": "stdout",
     "output_type": "stream",
     "text": [
      "[[1386.23952877]]\n"
     ]
    }
   ],
   "source": [
    "print(calc_overall([401],regressor))"
   ]
  },
  {
   "cell_type": "markdown",
   "metadata": {},
   "source": [
    "### Nearest Neighbour- full dataset"
   ]
  },
  {
   "cell_type": "code",
   "execution_count": 18,
   "metadata": {},
   "outputs": [],
   "source": [
    "df = pd.read_csv('data_reduced.csv', index_col=0)\n",
    "df = shuffle(df, random_state=10)\n",
    "\n",
    "df = df[['Reactions', 'Composure', 'Vision', 'ShortPassing', 'BallControl', 'Name']]\n",
    "df = df.dropna()\n",
    "\n",
    "X = df.drop('Name', axis=1)\n",
    "y = df['Name']"
   ]
  },
  {
   "cell_type": "code",
   "execution_count": 19,
   "metadata": {},
   "outputs": [
    {
     "data": {
      "text/plain": [
       "NearestNeighbors(algorithm='auto', leaf_size=30, metric='minkowski',\n",
       "                 metric_params=None, n_jobs=None, n_neighbors=3, p=2,\n",
       "                 radius=1.0)"
      ]
     },
     "execution_count": 19,
     "metadata": {},
     "output_type": "execute_result"
    }
   ],
   "source": [
    "neigh = NearestNeighbors(n_neighbors=3)\n",
    "neigh.fit(X)"
   ]
  },
  {
   "cell_type": "code",
   "execution_count": 32,
   "metadata": {},
   "outputs": [
    {
     "name": "stdout",
     "output_type": "stream",
     "text": [
      "['D. Fagundez', 'J. Brownhill', 'J. Torres']\n"
     ]
    }
   ],
   "source": [
    "new_player = [70, 70, 70, 70, 70]\n",
    "preds = neigh.kneighbors([new_player], 3, return_distance=False)\n",
    "\n",
    "closest_players = [y.iloc[pred] for pred in preds[0]]\n",
    "print(closest_players)"
   ]
  },
  {
   "cell_type": "code",
   "execution_count": 66,
   "metadata": {},
   "outputs": [
    {
     "data": {
      "text/plain": [
       "['J. Brownhill', ' https://cdn.sofifa.org/players/4/19/220659.png']"
      ]
     },
     "execution_count": 66,
     "metadata": {},
     "output_type": "execute_result"
    }
   ],
   "source": [
    "df = pd.read_csv('data.csv', index_col=0)\n",
    "photos = []\n",
    "# print(df.head())\n",
    "for i in closest_players:\n",
    "    df1 = df[df['Name'] == i]\n",
    "    \n",
    "    if df1.shape[0] ==1:\n",
    "        photos.append(df1['Photo'].to_string(index=False) )\n",
    "    else:\n",
    "        \n",
    "        photos.append(df1['Photo'].iloc[0]) \n",
    "dic = {'player1' : [closest_players[0],photos[0]] , 'player2' : [closest_players[1],photos[1]] , 'player3': [closest_players[2],photos[2]]}\n",
    "dic['player2']\n"
   ]
  },
  {
   "cell_type": "markdown",
   "metadata": {},
   "source": [
    "### Plotting"
   ]
  },
  {
   "cell_type": "code",
   "execution_count": 55,
   "metadata": {},
   "outputs": [],
   "source": [
    "import seaborn as sns\n",
    "import matplotlib.pyplot as plt"
   ]
  },
  {
   "cell_type": "code",
   "execution_count": 98,
   "metadata": {},
   "outputs": [
    {
     "data": {
      "image/png": "[encoded data removed]",
      "text/plain": [
       "<Figure size 432x288 with 1 Axes>"
      ]
     },
     "metadata": {
      "needs_background": "light"
     },
     "output_type": "display_data"
    }
   ],
   "source": [
    "def player_plot(player_name):\n",
    "    player = df.query(f\"Name == '{player_name}'\")\n",
    "    player_rating = int(player['Overall'].to_string(index=False))\n",
    "    sns_plot = sns.kdeplot(x, shade=True)\n",
    "    plt.axvline(player_rating, 0, 1, color='red')\n",
    "    fig = sns_plot.get_figure()\n",
    "    fig.savefig(\"output.png\")\n",
    "\n",
    "player_plot('Juanmi')"
   ]
  }
 ],
 "metadata": {
  "kernelspec": {
   "display_name": "Python 3",
   "language": "python",
   "name": "python3"
  },
  "language_info": {
   "codemirror_mode": {
    "name": "ipython",
    "version": 3
   },
   "file_extension": ".py",
   "mimetype": "text/x-python",
   "name": "python",
   "nbconvert_exporter": "python",
   "pygments_lexer": "ipython3",
   "version": "3.7.4"
  }
 },
 "nbformat": 4,
 "nbformat_minor": 2
}
