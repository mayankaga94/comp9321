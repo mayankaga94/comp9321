{
 "cells": [
  {
   "cell_type": "code",
   "execution_count": 63,
   "metadata": {},
   "outputs": [],
   "source": [
    "import pandas as pd\n",
    "import sklearn\n",
    "import numpy as np\n",
    "\n",
    "from sklearn.utils import shuffle\n",
    "from sklearn.linear_model import LinearRegression\n",
    "from sklearn.neighbors import NearestNeighbors\n",
    "from sklearn.metrics import mean_squared_error\n",
    "from sklearn.model_selection import train_test_split"
   ]
  },
  {
   "cell_type": "markdown",
   "metadata": {},
   "source": [
    "### Data ingestion for ML"
   ]
  },
  {
   "cell_type": "code",
   "execution_count": 64,
   "metadata": {},
   "outputs": [
    {
     "name": "stdout",
     "output_type": "stream",
     "text": [
      "       Reactions  Composure  Vision  ShortPassing  BallControl  Overall  \\\n",
      "16133       46.0       48.0    42.0          55.0         64.0       58   \n",
      "6285        66.0       66.0    63.0          61.0         66.0       69   \n",
      "15884       55.0       51.0    47.0          53.0         55.0       58   \n",
      "9156        56.0       55.0    37.0          59.0         49.0       66   \n",
      "495         77.0       61.0    57.0          37.0         34.0       80   \n",
      "\n",
      "              Name  \n",
      "16133     A. Bakir  \n",
      "6285   João Victor  \n",
      "15884     B. Singh  \n",
      "9156      G. Milan  \n",
      "495        J. Zoet  \n"
     ]
    }
   ],
   "source": [
    "df = pd.read_csv('data.csv', index_col=0)\n",
    "df = df[['Reactions', 'Composure', 'Vision', 'ShortPassing', 'BallControl', 'Overall', 'Name']]\n",
    "df = df.dropna()\n",
    "\n",
    "df = shuffle(df, random_state=10)\n",
    "print(df.head())"
   ]
  },
  {
   "cell_type": "markdown",
   "metadata": {},
   "source": [
    "### Train Test split"
   ]
  },
  {
   "cell_type": "code",
   "execution_count": 65,
   "metadata": {
    "scrolled": true
   },
   "outputs": [],
   "source": [
    "X = df.drop(['Overall', 'Name'], axis=1).values\n",
    "#name = df['Name'].values\n",
    "Y = df['Overall'].values\n",
    "X_train, X_test, y_train, y_test = train_test_split(X,Y, test_size=0)"
   ]
  },
  {
   "cell_type": "markdown",
   "metadata": {},
   "source": [
    "### Fit a Linear Regression Model"
   ]
  },
  {
   "cell_type": "code",
   "execution_count": 66,
   "metadata": {},
   "outputs": [
    {
     "data": {
      "text/plain": [
       "array([ 0.50495704,  0.17613828, -0.00058603,  0.03078141, -0.03612623])"
      ]
     },
     "execution_count": 66,
     "metadata": {},
     "output_type": "execute_result"
    }
   ],
   "source": [
    "from sklearn import svm\n",
    "reg = LinearRegression()\n",
    "reg.fit(X_train, y_train)\n",
    "reg.coef_\n",
    "\n",
    "\n",
    "#y_pred = reg.predict(X_test)\n",
    "#print('Accuracy of linear regression classifier on test set: {:.2f}'.format(reg.score(X_test, y_test)))"
   ]
  },
  {
   "cell_type": "code",
   "execution_count": 67,
   "metadata": {},
   "outputs": [
    {
     "data": {
      "text/plain": [
       "array([ 0.50495704,  0.17613828, -0.00058603,  0.03078141, -0.03612623])"
      ]
     },
     "execution_count": 67,
     "metadata": {},
     "output_type": "execute_result"
    }
   ],
   "source": [
    "import pickle\n",
    "filename='Regressor_model.sav'\n",
    "pickle.dump(reg, open(filename, 'wb'))\n",
    "load_lr_model =pickle.load(open(filename, 'rb'))\n",
    "load_lr_model.coef_"
   ]
  },
  {
   "cell_type": "code",
   "execution_count": 68,
   "metadata": {},
   "outputs": [
    {
     "name": "stdout",
     "output_type": "stream",
     "text": [
      "[89.15568483]\n"
     ]
    }
   ],
   "source": [
    "new_player = [95, 96, 94, 90, 96]\n",
    "print(load_lr_model.predict([new_player]))"
   ]
  },
  {
   "cell_type": "code",
   "execution_count": 69,
   "metadata": {},
   "outputs": [
    {
     "name": "stdout",
     "output_type": "stream",
     "text": [
      "[69.82894943]\n"
     ]
    }
   ],
   "source": [
    "new_player = [66, 68, 64, 67, 70]\n",
    "\n",
    "def calc_overall(new_player, model):\n",
    "    return model.predict([new_player])\n",
    "\n",
    "print(calc_overall(new_player, reg))"
   ]
  },
  {
   "cell_type": "markdown",
   "metadata": {},
   "source": [
    "### Nearest Neighbour- full dataset"
   ]
  },
  {
   "cell_type": "code",
   "execution_count": 70,
   "metadata": {},
   "outputs": [],
   "source": [
    "df = pd.read_csv('data.csv', index_col=0)\n",
    "df = shuffle(df, random_state=10)\n",
    "\n",
    "df = df[['Reactions', 'Composure', 'Vision', 'ShortPassing', 'BallControl', 'Name']]\n",
    "df = df.dropna()\n",
    "\n",
    "X = df.drop('Name', axis=1)\n",
    "y = df['Name']"
   ]
  },
  {
   "cell_type": "code",
   "execution_count": 71,
   "metadata": {},
   "outputs": [
    {
     "data": {
      "text/plain": [
       "NearestNeighbors(algorithm='auto', leaf_size=30, metric='minkowski',\n",
       "         metric_params=None, n_jobs=None, n_neighbors=3, p=2, radius=1.0)"
      ]
     },
     "execution_count": 71,
     "metadata": {},
     "output_type": "execute_result"
    }
   ],
   "source": [
    "neigh = NearestNeighbors(n_neighbors=3)\n",
    "neigh.fit(X)"
   ]
  },
  {
   "cell_type": "code",
   "execution_count": 72,
   "metadata": {},
   "outputs": [
    {
     "name": "stdout",
     "output_type": "stream",
     "text": [
      "['L. Messi', 'David Silva', 'E. Hazard']\n"
     ]
    }
   ],
   "source": [
    "new_player = [95, 96, 94, 90, 96]\n",
    "preds = neigh.kneighbors([new_player], 3, return_distance=False)\n",
    "\n",
    "closest_players = [y.iloc[pred] for pred in preds[0]]\n",
    "print(closest_players)"
   ]
  },
  {
   "cell_type": "code",
   "execution_count": null,
   "metadata": {},
   "outputs": [],
   "source": []
  }
 ],
 "metadata": {
  "kernelspec": {
   "display_name": "Python 3",
   "language": "python",
   "name": "python3"
  }
 },
 "nbformat": 4,
 "nbformat_minor": 2
}
