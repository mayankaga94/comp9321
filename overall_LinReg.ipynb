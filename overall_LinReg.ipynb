{
 "cells": [
  {
   "cell_type": "code",
   "execution_count": 97,
   "metadata": {},
   "outputs": [],
   "source": [
    "import pandas as pd\n",
    "import sklearn\n",
    "import seaborn as sns\n",
    "import numpy as np\n",
    "import matplotlib.pyplot as plt\n",
    "\n",
    "from sklearn.utils import shuffle\n",
    "from sklearn.model_selection import train_test_split\n",
    "from sklearn.linear_model import LinearRegression\n",
    "from sklearn.neighbors import KNeighborsClassifier"
   ]
  },
  {
   "cell_type": "markdown",
   "metadata": {},
   "source": [
    "### Data ingestion for ML"
   ]
  },
  {
   "cell_type": "code",
   "execution_count": 127,
   "metadata": {},
   "outputs": [
    {
     "name": "stdout",
     "output_type": "stream",
     "text": [
      "       Reactions  Composure  Vision  ShortPassing  BallControl  Overall  \\\n",
      "16133       46.0       48.0    42.0          55.0         64.0       58   \n",
      "6285        66.0       66.0    63.0          61.0         66.0       69   \n",
      "15884       55.0       51.0    47.0          53.0         55.0       58   \n",
      "9156        56.0       55.0    37.0          59.0         49.0       66   \n",
      "495         77.0       61.0    57.0          37.0         34.0       80   \n",
      "\n",
      "              Name  \n",
      "16133     A. Bakir  \n",
      "6285   João Victor  \n",
      "15884     B. Singh  \n",
      "9156      G. Milan  \n",
      "495        J. Zoet  \n"
     ]
    }
   ],
   "source": [
    "df = pd.read_csv('data.csv', index_col=0)\n",
    "df = df[['Reactions', 'Composure', 'Vision', 'ShortPassing', 'BallControl', 'Overall', 'Name']]\n",
    "df = df.dropna()\n",
    "\n",
    "df = shuffle(df, random_state=10)\n",
    "print(df.head())"
   ]
  },
  {
   "cell_type": "markdown",
   "metadata": {},
   "source": [
    "### Correlation Map"
   ]
  },
  {
   "cell_type": "code",
   "execution_count": null,
   "metadata": {},
   "outputs": [],
   "source": [
    "plt.figure(figsize=(20, 15))\n",
    "corr = df.corr()\n",
    "sns.heatmap(corr, \n",
    "        xticklabels=corr.columns,\n",
    "        yticklabels=corr.columns)\n",
    "print(corr['Overall'].sort_values())"
   ]
  },
  {
   "cell_type": "markdown",
   "metadata": {},
   "source": [
    "### Train Test split"
   ]
  },
  {
   "cell_type": "code",
   "execution_count": 99,
   "metadata": {
    "scrolled": true
   },
   "outputs": [
    {
     "name": "stdout",
     "output_type": "stream",
     "text": [
      "[[66. 68. 64. 67. 70.]\n",
      " [59. 60. 38. 63. 63.]\n",
      " [73. 65. 76. 74. 75.]\n",
      " ...\n",
      " [61. 56. 64. 66. 70.]\n",
      " [68. 67. 78. 74. 75.]\n",
      " [38. 57. 56. 63. 65.]]\n",
      "[69 64 75 ... 66 73 62]\n"
     ]
    }
   ],
   "source": [
    "def split_df(df):\n",
    "    X = df.drop(['Overall', 'Name'], axis=1).values\n",
    "    name = df['Name'].values\n",
    "    y = df['Overall'].values\n",
    "    split = int(len(X) * 0.7)\n",
    "    X_train = X[:split]\n",
    "    X_test = X[split:]\n",
    "    y_train = y[:split]\n",
    "    y_test = y[split:]\n",
    "    return X_train, X_test, y_train, y_test\n",
    "\n",
    "X_train, X_test, y_train, y_test = split_df(df)\n",
    "\n",
    "print(X_train)\n",
    "print(y_train)"
   ]
  },
  {
   "cell_type": "markdown",
   "metadata": {},
   "source": [
    "### Fit a Linear Regression Model"
   ]
  },
  {
   "cell_type": "code",
   "execution_count": 100,
   "metadata": {},
   "outputs": [],
   "source": [
    "reg = LinearRegression().fit(X_train, y_train)"
   ]
  },
  {
   "cell_type": "code",
   "execution_count": 101,
   "metadata": {},
   "outputs": [
    {
     "name": "stdout",
     "output_type": "stream",
     "text": [
      "0.7647223974005128\n",
      "[ 0.50950563  0.1768051  -0.00151239  0.03146114 -0.03729289]\n"
     ]
    }
   ],
   "source": [
    "print(reg.score(X_train, y_train))\n",
    "print(reg.coef_)"
   ]
  },
  {
   "cell_type": "code",
   "execution_count": 115,
   "metadata": {},
   "outputs": [
    {
     "name": "stdout",
     "output_type": "stream",
     "text": [
      "[89.28025053]\n"
     ]
    }
   ],
   "source": [
    "#Reactions  Composure  Vision  ShortPassing  BallControl \n",
    "new_player = [95, 96, 94, 90, 96]\n",
    "\n",
    "print(reg.predict([new_player]))"
   ]
  },
  {
   "cell_type": "code",
   "execution_count": null,
   "metadata": {},
   "outputs": [],
   "source": [
    "new_player = [66, 68, 64, 67, 70]\n",
    "\n",
    "def calc_overall(new_player, model):\n",
    "    return model.predict(new_player)\n",
    "\n",
    "print(calc_overall(new_player, reg))"
   ]
  },
  {
   "cell_type": "markdown",
   "metadata": {},
   "source": [
    "### Kmeans"
   ]
  },
  {
   "cell_type": "code",
   "execution_count": 3,
   "metadata": {},
   "outputs": [
    {
     "name": "stdout",
     "output_type": "stream",
     "text": [
      "       Age  Overall\n",
      "2192    28       74\n",
      "11705   26       64\n",
      "3207    31       73\n",
      "952     29       77\n",
      "15053   22       60\n",
      "7337    24       68\n",
      "14875   21       60\n",
      "1773    28       75\n",
      "4656    24       71\n",
      "17347   19       54\n",
      "\n",
      "2192          R. Ortiz\n",
      "11705         D. López\n",
      "3207        C. Carmona\n",
      "952         A. Carroll\n",
      "15053    H. Tijanovich\n",
      "7337       S. Väisänen\n",
      "14875        Hu Ruibao\n",
      "1773       A. Westwood\n",
      "4656       M. Jevtovic\n",
      "17347          M. Napa\n",
      "Name: Name, dtype: object\n"
     ]
    }
   ],
   "source": [
    "df = pd.read_csv('data.csv', index_col=0)\n",
    "df = shuffle(df, random_state=10)\n",
    "df = df.head(10)\n",
    "df = df[['Name', 'Age', 'Overall', 'Finishing', 'Dribbling', 'Stamina', 'LongShots', 'Interceptions','Vision', \\\n",
    "        'StandingTackle', 'GKDiving']]\n",
    "\n",
    "df = df[['Name', 'Age', 'Overall']]\n",
    "\n",
    "X = df.drop('Name', axis=1)\n",
    "y = df['Name']\n",
    "\n",
    "print(X)\n",
    "print()\n",
    "print(y)"
   ]
  },
  {
   "cell_type": "code",
   "execution_count": 4,
   "metadata": {},
   "outputs": [
    {
     "data": {
      "image/png": "[encoded data removed]",
      "text/plain": [
       "<Figure size 432x288 with 1 Axes>"
      ]
     },
     "metadata": {
      "needs_background": "light"
     },
     "output_type": "display_data"
    }
   ],
   "source": [
    "ax = X.plot.scatter(x='Age', y='Overall')\n",
    "plt.show()"
   ]
  },
  {
   "cell_type": "code",
   "execution_count": 18,
   "metadata": {},
   "outputs": [
    {
     "data": {
      "text/plain": [
       "KNeighborsClassifier(algorithm='auto', leaf_size=30, metric='minkowski',\n",
       "                     metric_params=None, n_jobs=None, n_neighbors=1, p=2,\n",
       "                     weights='uniform')"
      ]
     },
     "execution_count": 18,
     "metadata": {},
     "output_type": "execute_result"
    }
   ],
   "source": [
    "neigh = KNeighborsClassifier(n_neighbors=1)\n",
    "neigh.fit(X, y)"
   ]
  },
  {
   "cell_type": "code",
   "execution_count": 19,
   "metadata": {},
   "outputs": [
    {
     "data": {
      "text/plain": [
       "array(['M. Jevtovic'], dtype=object)"
      ]
     },
     "execution_count": 19,
     "metadata": {},
     "output_type": "execute_result"
    }
   ],
   "source": [
    "new_player = [25, 70]\n",
    "neigh.predict([new_player])"
   ]
  }
 ],
 "metadata": {
  "kernelspec": {
   "display_name": "Python 3",
   "language": "python",
   "name": "python3"
  },
  "language_info": {
   "codemirror_mode": {
    "name": "ipython",
    "version": 3
   },
   "file_extension": ".py",
   "mimetype": "text/x-python",
   "name": "python",
   "nbconvert_exporter": "python",
   "pygments_lexer": "ipython3",
   "version": "3.6.8"
  }
 },
 "nbformat": 4,
 "nbformat_minor": 2
}
