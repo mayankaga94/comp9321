{
 "cells": [
  {
   "cell_type": "code",
   "execution_count": 1,
   "metadata": {},
   "outputs": [],
   "source": [
    "import pandas as pd\n",
    "import sklearn\n",
    "import numpy as np\n",
    "\n",
    "from sklearn.utils import shuffle\n",
    "from sklearn.linear_model import LinearRegression\n",
    "from sklearn.neighbors import NearestNeighbors"
   ]
  },
  {
   "cell_type": "markdown",
   "metadata": {},
   "source": [
    "### Data ingestion for ML"
   ]
  },
  {
   "cell_type": "code",
   "execution_count": 2,
   "metadata": {},
   "outputs": [
    {
     "name": "stdout",
     "output_type": "stream",
     "text": [
      "       Reactions  Composure  Vision  ShortPassing  BallControl  Overall  \\\n",
      "16133       46.0       48.0    42.0          55.0         64.0       58   \n",
      "6285        66.0       66.0    63.0          61.0         66.0       69   \n",
      "15884       55.0       51.0    47.0          53.0         55.0       58   \n",
      "9156        56.0       55.0    37.0          59.0         49.0       66   \n",
      "495         77.0       61.0    57.0          37.0         34.0       80   \n",
      "\n",
      "              Name  \n",
      "16133     A. Bakir  \n",
      "6285   João Victor  \n",
      "15884     B. Singh  \n",
      "9156      G. Milan  \n",
      "495        J. Zoet  \n"
     ]
    }
   ],
   "source": [
    "df = pd.read_csv('data.csv', index_col=0)\n",
    "df = df[['Reactions', 'Composure', 'Vision', 'ShortPassing', 'BallControl', 'Overall', 'Name']]\n",
    "df = df.dropna()\n",
    "\n",
    "df = shuffle(df, random_state=10)\n",
    "print(df.head())"
   ]
  },
  {
   "cell_type": "markdown",
   "metadata": {},
   "source": [
    "### Train Test split"
   ]
  },
  {
   "cell_type": "code",
   "execution_count": 3,
   "metadata": {
    "scrolled": true
   },
   "outputs": [
    {
     "name": "stdout",
     "output_type": "stream",
     "text": [
      "[[46. 48. 42. 55. 64.]\n",
      " [66. 66. 63. 61. 66.]\n",
      " [55. 51. 47. 53. 55.]\n",
      " ...\n",
      " [55. 67. 64. 67. 69.]\n",
      " [60. 50. 50. 65. 60.]\n",
      " [66. 61. 69. 78. 78.]]\n",
      "[58 69 58 ... 65 67 72]\n"
     ]
    }
   ],
   "source": [
    "def split_df(df):\n",
    "    X = df.drop(['Overall', 'Name'], axis=1).values\n",
    "    name = df['Name'].values\n",
    "    y = df['Overall'].values\n",
    "    split = int(len(X) * 0.7)\n",
    "    X_train = X[:split]\n",
    "    X_test = X[split:]\n",
    "    y_train = y[:split]\n",
    "    y_test = y[split:]\n",
    "    return X_train, X_test, y_train, y_test\n",
    "\n",
    "X_train, X_test, y_train, y_test = split_df(df)\n",
    "\n",
    "print(X_train)\n",
    "print(y_train)"
   ]
  },
  {
   "cell_type": "markdown",
   "metadata": {},
   "source": [
    "### Fit a Linear Regression Model"
   ]
  },
  {
   "cell_type": "code",
   "execution_count": 4,
   "metadata": {},
   "outputs": [],
   "source": [
    "reg = LinearRegression().fit(X_train, y_train)"
   ]
  },
  {
   "cell_type": "code",
   "execution_count": 5,
   "metadata": {},
   "outputs": [
    {
     "name": "stdout",
     "output_type": "stream",
     "text": [
      "[89.19505682]\n"
     ]
    }
   ],
   "source": [
    "new_player = [95, 96, 94, 90, 96]\n",
    "print(reg.predict([new_player]))"
   ]
  },
  {
   "cell_type": "code",
   "execution_count": 6,
   "metadata": {},
   "outputs": [
    {
     "name": "stdout",
     "output_type": "stream",
     "text": [
      "[69.8491762]\n"
     ]
    }
   ],
   "source": [
    "new_player = [66, 68, 64, 67, 70]\n",
    "\n",
    "def calc_overall(new_player, model):\n",
    "    return model.predict([new_player])\n",
    "\n",
    "print(calc_overall(new_player, reg))"
   ]
  },
  {
   "cell_type": "markdown",
   "metadata": {},
   "source": [
    "### Nearest Neighbour- full dataset"
   ]
  },
  {
   "cell_type": "code",
   "execution_count": 7,
   "metadata": {},
   "outputs": [],
   "source": [
    "df = pd.read_csv('data.csv', index_col=0)\n",
    "df = shuffle(df, random_state=10)\n",
    "\n",
    "df = df[['Reactions', 'Composure', 'Vision', 'ShortPassing', 'BallControl', 'Name']]\n",
    "df = df.dropna()\n",
    "\n",
    "X = df.drop('Name', axis=1)\n",
    "y = df['Name']"
   ]
  },
  {
   "cell_type": "code",
   "execution_count": 8,
   "metadata": {},
   "outputs": [
    {
     "data": {
      "text/plain": [
       "NearestNeighbors(algorithm='auto', leaf_size=30, metric='minkowski',\n",
       "                 metric_params=None, n_jobs=None, n_neighbors=3, p=2,\n",
       "                 radius=1.0)"
      ]
     },
     "execution_count": 8,
     "metadata": {},
     "output_type": "execute_result"
    }
   ],
   "source": [
    "neigh = NearestNeighbors(n_neighbors=3)\n",
    "neigh.fit(X)"
   ]
  },
  {
   "cell_type": "code",
   "execution_count": 9,
   "metadata": {},
   "outputs": [
    {
     "name": "stdout",
     "output_type": "stream",
     "text": [
      "['L. Messi', 'David Silva', 'E. Hazard']\n"
     ]
    }
   ],
   "source": [
    "new_player = [95, 96, 94, 90, 96]\n",
    "preds = neigh.kneighbors([new_player], 3, return_distance=False)\n",
    "\n",
    "closest_players = [y.iloc[pred] for pred in preds[0]]\n",
    "print(closest_players)"
   ]
  },
  {
   "cell_type": "code",
   "execution_count": null,
   "metadata": {},
   "outputs": [],
   "source": []
  }
 ],
 "metadata": {
  "kernelspec": {
   "display_name": "Python 3",
   "language": "python",
   "name": "python3"
  },
  "language_info": {
   "codemirror_mode": {
    "name": "ipython",
    "version": 3
   },
   "file_extension": ".py",
   "mimetype": "text/x-python",
   "name": "python",
   "nbconvert_exporter": "python",
   "pygments_lexer": "ipython3",
   "version": "3.7.4"
  }
 },
 "nbformat": 4,
 "nbformat_minor": 2
}
