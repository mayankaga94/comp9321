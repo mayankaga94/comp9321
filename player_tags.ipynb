{
 "cells": [
  {
   "cell_type": "code",
   "execution_count": 1,
   "metadata": {},
   "outputs": [],
   "source": [
    "import pandas as pd"
   ]
  },
  {
   "cell_type": "code",
   "execution_count": 2,
   "metadata": {},
   "outputs": [
    {
     "name": "stdout",
     "output_type": "stream",
     "text": [
      "['Dribbler', 'Distance Shooter', 'Crosser', 'FK Specialist', 'Acrobat', 'Clinical Finisher', 'Complete Forward']\n"
     ]
    }
   ],
   "source": [
    "df = pd.read_csv('data.csv', index_col=0)\n",
    "df = df[['ID', 'Name', 'Age', 'Nationality', 'Overall', 'Wage', 'Reactions',\\\n",
    "         'Composure', 'Vision', 'ShortPassing', 'BallControl']]\n",
    "\n",
    "second_df = pd.read_csv('fifa_cleaned.csv', index_col=0)\n",
    "second_df = second_df[['name', 'tags']]\n",
    "\n",
    "new_names = ['Name', 'Tags']\n",
    "second_df.columns = new_names\n",
    "\n",
    "merged_df = pd.merge(df, second_df, on='Name')\n",
    "\n",
    "def get_tags(player_name):\n",
    "    req = merged_df.query(\"Name == 'L. Messi'\")\n",
    "    player_tags = req['Tags']\n",
    "    tags_list = player_tags[0].split('#')\n",
    "    tags_list = [e.strip(',') for e in tags_list if len(e) > 1]\n",
    "    return tags_list\n",
    "\n",
    "player_name = 'L. Messi'\n",
    "tags = get_tags(player_name)\n",
    "print(tags)"
   ]
  }
 ],
 "metadata": {
  "kernelspec": {
   "display_name": "Python 3",
   "language": "python",
   "name": "python3"
  },
  "language_info": {
   "codemirror_mode": {
    "name": "ipython",
    "version": 3
   },
   "file_extension": ".py",
   "mimetype": "text/x-python",
   "name": "python",
   "nbconvert_exporter": "python",
   "pygments_lexer": "ipython3",
   "version": "3.6.8"
  }
 },
 "nbformat": 4,
 "nbformat_minor": 2
}
